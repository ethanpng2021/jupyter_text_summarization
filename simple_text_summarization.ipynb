{
 "cells": [
  {
   "cell_type": "code",
   "execution_count": 12,
   "id": "121ceb37",
   "metadata": {},
   "outputs": [
    {
     "name": "stdout",
     "output_type": "stream",
     "text": [
      "Creating a summary from these 3 sites:  ['https://en.wikipedia.org/wiki/OpenAI', 'https://en.wikipedia.org/wiki/OpenAI_Codex', 'https://en.wikipedia.org/wiki/Sam_Altman']\n",
      "\n",
      "Summary: \n",
      "In 2020, OpenAI announced GPT-3, a language model trained on large internet datasets. OpenAI demonstrations showcased flaws such as inefficient code and one-off quirks in code samples. In November 2019, OpenAI released the complete version of the GPT-2 language model. It parses natural language and generates code in response. Codex is a descendant of OpenAI's GPT-3 model, fine-tuned for use in programming applications. OpenAI plans to spend the $1 billion \"within five years, and possibly much faster\". Objects like the Rubik's Cube introduce complex physics that is harder to model. Released in 2022, Whisper is a general-purpose speech recognition model. the model was not further trained on any task-specific input-output examples). Released in 2018, Gym Retro is a platform for RL research on video games. As of 2021[update], OpenAI's research focuses on reinforcement learning (RL). Prior research in RL has focused chiefly on optimizing agents to solve single tasks. Revealed in 2021, DALL-E is a Transformer model that creates images from textual descriptions. The new type of attacks on such models was described in this work. OpenAI also announced its intention to commercially license its technologies. Several websites host interactive demonstrations of different instances of GPT-2 and other transformer models. It can generate songs with ten different instruments in fifteen different styles. Gym Retro is used to research RL algorithms and study generalization. He is chairman of the board for Helion and Oklo, two nuclear energy companies. Co-chair Sam Altman expects the decades-long project to surpass human intelligence. It avoids certain issues encoding vocabulary with word tokens by using byte pair encoding. OpenAI stated that GPT-3 succeeds at certain \"meta-learning\" tasks. ChatGPT reached 1 million users 5 days after its launch. The robot was able to solve the puzzle 60% of the time. Released in 2020, Jukebox is an open-sourced algorithm to generate music with vocals. As of March 2021, no API or code is available. Altman states that Y Combinator companies will share their data with OpenAI. In comparison, DeepMind's total expenses in 2017 were $442 million. In 2019, OpenAI demonstrated that Dactyl could solve a Rubik's Cube. He announced the return of Steve Huffman as CEO on July 10, 2015.\n"
     ]
    }
   ],
   "source": [
    "import bs4 as bs\n",
    "import urllib.request\n",
    "import re\n",
    "import nltk\n",
    "import heapq\n",
    "try:\n",
    "    from googlesearch import search\n",
    "except ImportError:\n",
    "    print(\"No module named 'google' found\")\n",
    "    \n",
    "query = \"Wikipedia OpenAI\"\n",
    " \n",
    "listofURLs = []\n",
    "for j in search(query, num=3, stop=3, pause=2): #Do not overload: 3 websites is a comfortable number.\n",
    "    listofURLs.append(j)\n",
    "    \n",
    "print(\"Creating a summary from these 3 sites: \", listofURLs)\n",
    "\n",
    "article_text = \"\"\n",
    "for n in listofURLs:\n",
    "    scraped_data = urllib.request.urlopen(n)\n",
    "    article = scraped_data.read()\n",
    "    parsed_article = bs.BeautifulSoup(article,'lxml')\n",
    "    paragraphs = parsed_article.find_all('p')\n",
    "\n",
    "    for p in paragraphs:\n",
    "        article_text += p.text\n",
    "    \n",
    "article_text = re.sub(r'\\[[0-9]*\\]', ' ', article_text)\n",
    "article_text = re.sub(r'\\s+', ' ', article_text)\n",
    "\n",
    "formatted_article_text = re.sub('[^a-zA-Z]', ' ', article_text )\n",
    "formatted_article_text = re.sub(r'\\s+', ' ', formatted_article_text)\n",
    "\n",
    "sentence_list = nltk.sent_tokenize(article_text)\n",
    "\n",
    "stopwords = nltk.corpus.stopwords.words('english')\n",
    "\n",
    "word_frequencies = {}\n",
    "for word in nltk.word_tokenize(formatted_article_text):\n",
    "    if word not in stopwords:\n",
    "        if word not in word_frequencies.keys():\n",
    "            word_frequencies[word] = 1\n",
    "        else:\n",
    "            word_frequencies[word] += 1\n",
    "            \n",
    "maximum_frequncy = max(word_frequencies.values())\n",
    "\n",
    "for word in word_frequencies.keys():\n",
    "    word_frequencies[word] = (word_frequencies[word]/maximum_frequncy)\n",
    "    \n",
    "sentence_scores = {}\n",
    "for sent in sentence_list:\n",
    "    for word in nltk.word_tokenize(sent.lower()):\n",
    "        if word in word_frequencies.keys():\n",
    "            if len(sent.split(' ')) < 15: #Change this value to observe the difference\n",
    "                if sent not in sentence_scores.keys():\n",
    "                    sentence_scores[sent] = word_frequencies[word]\n",
    "                else:\n",
    "                    sentence_scores[sent] += word_frequencies[word]\n",
    "\n",
    "# Change value 30 to decrease or increase the output text\n",
    "summary_sentences = heapq.nlargest(30, sentence_scores, key=sentence_scores.get)\n",
    "\n",
    "summary = ' '.join(summary_sentences)\n",
    "print()\n",
    "print(\"Summary: \")\n",
    "print(summary)\n",
    "\n",
    "##Reference: https://stackabuse.com/text-summarization-with-nltk-in-python/"
   ]
  },
  {
   "cell_type": "code",
   "execution_count": null,
   "id": "13acbb9c",
   "metadata": {},
   "outputs": [],
   "source": []
  }
 ],
 "metadata": {
  "kernelspec": {
   "display_name": "Python 3",
   "language": "python",
   "name": "python3"
  },
  "language_info": {
   "codemirror_mode": {
    "name": "ipython",
    "version": 3
   },
   "file_extension": ".py",
   "mimetype": "text/x-python",
   "name": "python",
   "nbconvert_exporter": "python",
   "pygments_lexer": "ipython3",
   "version": "3.7.5"
  }
 },
 "nbformat": 4,
 "nbformat_minor": 5
}
